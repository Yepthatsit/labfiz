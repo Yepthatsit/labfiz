{
 "cells": [
  {
   "cell_type": "code",
   "execution_count": 1,
   "metadata": {},
   "outputs": [
    {
     "name": "stdout",
     "output_type": "stream",
     "text": [
      "glass.txt: 23.949000000000005 +/- 0.1234970248690843\n",
      "Wadhglass.txt: 0.1393324397383738 +/- 0.0036494874565663046\n",
      "kropla1fixed.txt: 64.1894 +/- 0.38392923379922017\n",
      "Volumekropla1fixed.txt: 8.1006 +/- 0.12608174356585544\n",
      "kropla2fixed.txt: 66.1236 +/- 0.047705324438662246\n",
      "Volumekropla2fixed.txt: 10.736600000000003 +/- 0.0192914907708451\n",
      "kropla3fixed.txt: 66.584 +/- 0.05402954672391651\n",
      "Volumekropla3fixed.txt: 10.338199999999999 +/- 0.0213380676564941\n",
      "plexiglass.txt: 45.941 +/- 0.12799542289796392\n",
      "Wadhplexiglass.txt: 0.12342502813069402 +/- 0.006696187345594416\n",
      "szmatka.txt: 99.23000000000003 +/- 0.06276459144608418\n",
      "Wadhszmatka.txt: 0.06112302348211752 +/- 0.004510101351149352\n",
      "teflon.txt: 37.842999999999996 +/- 0.15390867028169217\n",
      "Wadhteflon.txt: 0.1302897820452802 +/- 0.0068739908780806065\n"
     ]
    }
   ],
   "source": [
    "import os\n",
    "import pandas as pd\n",
    "import math\n",
    "data:dict = {}\n",
    "all_files = os.listdir(os.path.abspath(''))\n",
    "for file in all_files:\n",
    "    if '.txt' in file:\n",
    "        if 'fixed' in file:\n",
    "            raw_data = pd.read_csv(file)\n",
    "            data[file] = f'{raw_data.loc[:,'Gamma'].mean()} +/- {raw_data.loc[:,'Gamma'].std()}'\n",
    "            data[f\"Volume{file}\"] = f'{raw_data.loc[:,'Volume'].mean()} +/- {raw_data.loc[:,'Volume'].std()}'\n",
    "        elif 'kropla' not in file:\n",
    "            raw_data = pd.read_csv(file,sep='\\t')\n",
    "            std = raw_data.loc[:,'Mean'].std()\n",
    "            sred = raw_data.loc[:,'Mean'].mean()\n",
    "            data[file] = f'{sred} +/- {std}'\n",
    "            data[f\"Wadh{file}\"] = f\"{72.8E-3*(1 + math.cos(math.radians(sred)))} +/- {std*72.8E-3*(math.sin(math.radians(sred)))}\"\n",
    "for i in data.keys():\n",
    "    print(f\"{i}: {data[i]}\")"
   ]
  },
  {
   "cell_type": "code",
   "execution_count": 52,
   "metadata": {},
   "outputs": [],
   "source": [
    "all_files = os.listdir(os.path.abspath(''))\n",
    "for file in all_files:\n",
    "    if 'kropla' in file:\n",
    "        opened_file = open(file,'r')\n",
    "        line = opened_file.readline()\n",
    "        fixed = open(f'{file.replace('.txt', '')}fixed.txt','a')\n",
    "        while line != '':\n",
    "            stripped = line.strip()\n",
    "            splited = stripped.split()\n",
    "            splited = [i.strip() for i in splited]\n",
    "            fixed.write(','.join(splited) + '\\n')\n",
    "            line = opened_file.readline()\n",
    "        opened_file.close()\n",
    "        fixed.close()"
   ]
  },
  {
   "cell_type": "code",
   "execution_count": 49,
   "metadata": {},
   "outputs": [
    {
     "name": "stdout",
     "output_type": "stream",
     "text": [
      "Index(['No. DropPhase Ext.Phase  Run Name     Gamma      Area    Volume'], dtype='object')\n"
     ]
    }
   ],
   "source": [
    "print(pd.read_csv('kropla1fixed.txt',sep = '\\t').columns)\n"
   ]
  }
 ],
 "metadata": {
  "kernelspec": {
   "display_name": "Python 3",
   "language": "python",
   "name": "python3"
  },
  "language_info": {
   "codemirror_mode": {
    "name": "ipython",
    "version": 3
   },
   "file_extension": ".py",
   "mimetype": "text/x-python",
   "name": "python",
   "nbconvert_exporter": "python",
   "pygments_lexer": "ipython3",
   "version": "3.12.1"
  }
 },
 "nbformat": 4,
 "nbformat_minor": 2
}
